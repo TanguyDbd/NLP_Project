{
 "cells": [
  {
   "cell_type": "markdown",
   "metadata": {},
   "source": [
    "# ***Tanguy Dabadie NLP Project - Deep Learning Model***"
   ]
  },
  {
   "cell_type": "code",
   "execution_count": 1,
   "metadata": {},
   "outputs": [],
   "source": [
    "import pandas as pd\n",
    "import numpy as np\n",
    "import matplotlib.pyplot as plt\n",
    "import seaborn as sns\n",
    "from sklearn.preprocessing import LabelEncoder\n",
    "from sklearn.model_selection import train_test_split\n",
    " \n",
    "from tensorflow import keras\n",
    "from keras.models import Sequential\n",
    "from keras.layers import Embedding, Dense, LSTM, SimpleRNN, Flatten\n",
    "from keras.callbacks import EarlyStopping\n",
    "from keras.preprocessing.sequence import pad_sequences\n",
    "from keras.preprocessing.text import text_to_word_sequence\n",
    "from keras.preprocessing.text import Tokenizer\n",
    "from keras.utils import to_categorical\n",
    "from sklearn.metrics import confusion_matrix, classification_report\n",
    "from keras.layers import LSTM\n",
    "\n",
    "from preprocessing_function import preprocess_text"
   ]
  },
  {
   "cell_type": "markdown",
   "metadata": {},
   "source": [
    "Finally, after trying to optimize the baseline Machine Learning model we chose we want to further improve the performance of our model by applying our deep learning skills to the problem."
   ]
  },
  {
   "cell_type": "markdown",
   "metadata": {},
   "source": [
    "## Data built in the exploratory data analysis notebook :"
   ]
  },
  {
   "cell_type": "code",
   "execution_count": 2,
   "metadata": {},
   "outputs": [
    {
     "data": {
      "text/html": [
       "<div>\n",
       "<style scoped>\n",
       "    .dataframe tbody tr th:only-of-type {\n",
       "        vertical-align: middle;\n",
       "    }\n",
       "\n",
       "    .dataframe tbody tr th {\n",
       "        vertical-align: top;\n",
       "    }\n",
       "\n",
       "    .dataframe thead th {\n",
       "        text-align: right;\n",
       "    }\n",
       "</style>\n",
       "<table border=\"1\" class=\"dataframe\">\n",
       "  <thead>\n",
       "    <tr style=\"text-align: right;\">\n",
       "      <th></th>\n",
       "      <th>Review</th>\n",
       "      <th>Rating</th>\n",
       "    </tr>\n",
       "  </thead>\n",
       "  <tbody>\n",
       "    <tr>\n",
       "      <th>0</th>\n",
       "      <td>The ambience was good, food was quite good . h...</td>\n",
       "      <td>5</td>\n",
       "    </tr>\n",
       "    <tr>\n",
       "      <th>1</th>\n",
       "      <td>Ambience is too good for a pleasant evening. S...</td>\n",
       "      <td>5</td>\n",
       "    </tr>\n",
       "    <tr>\n",
       "      <th>2</th>\n",
       "      <td>A must try.. great food great ambience. Thnx f...</td>\n",
       "      <td>5</td>\n",
       "    </tr>\n",
       "    <tr>\n",
       "      <th>3</th>\n",
       "      <td>Soumen das and Arun was a great guy. Only beca...</td>\n",
       "      <td>5</td>\n",
       "    </tr>\n",
       "    <tr>\n",
       "      <th>4</th>\n",
       "      <td>Food is good.we ordered Kodi drumsticks and ba...</td>\n",
       "      <td>5</td>\n",
       "    </tr>\n",
       "    <tr>\n",
       "      <th>...</th>\n",
       "      <td>...</td>\n",
       "      <td>...</td>\n",
       "    </tr>\n",
       "    <tr>\n",
       "      <th>9991</th>\n",
       "      <td>I was never a fan of Chinese food until I visi...</td>\n",
       "      <td>5</td>\n",
       "    </tr>\n",
       "    <tr>\n",
       "      <th>9992</th>\n",
       "      <td>I visited this restaurant with friends and was...</td>\n",
       "      <td>5</td>\n",
       "    </tr>\n",
       "    <tr>\n",
       "      <th>9993</th>\n",
       "      <td>Im going to cut to the chase, The food is exce...</td>\n",
       "      <td>5</td>\n",
       "    </tr>\n",
       "    <tr>\n",
       "      <th>9995</th>\n",
       "      <td>Madhumathi Mahajan Well to start with nice cou...</td>\n",
       "      <td>3</td>\n",
       "    </tr>\n",
       "    <tr>\n",
       "      <th>9998</th>\n",
       "      <td>I personally love and prefer Chinese Food. Had...</td>\n",
       "      <td>4</td>\n",
       "    </tr>\n",
       "  </tbody>\n",
       "</table>\n",
       "<p>9817 rows × 2 columns</p>\n",
       "</div>"
      ],
      "text/plain": [
       "                                                 Review Rating\n",
       "0     The ambience was good, food was quite good . h...      5\n",
       "1     Ambience is too good for a pleasant evening. S...      5\n",
       "2     A must try.. great food great ambience. Thnx f...      5\n",
       "3     Soumen das and Arun was a great guy. Only beca...      5\n",
       "4     Food is good.we ordered Kodi drumsticks and ba...      5\n",
       "...                                                 ...    ...\n",
       "9991  I was never a fan of Chinese food until I visi...      5\n",
       "9992  I visited this restaurant with friends and was...      5\n",
       "9993  Im going to cut to the chase, The food is exce...      5\n",
       "9995  Madhumathi Mahajan Well to start with nice cou...      3\n",
       "9998  I personally love and prefer Chinese Food. Had...      4\n",
       "\n",
       "[9817 rows x 2 columns]"
      ]
     },
     "execution_count": 2,
     "metadata": {},
     "output_type": "execute_result"
    }
   ],
   "source": [
    "file = pd.read_csv('Restaurant reviews.csv')\n",
    "df = pd.DataFrame(file)\n",
    "df = df.drop(['Restaurant','Reviewer','Metadata','Time','Pictures','7514'], axis=1)\n",
    "df['Rating'] = df['Rating'].replace('nan', np.nan)\n",
    "df = df.dropna(subset=['Rating'])\n",
    "df = df[~df['Rating'].isin(['Like', '1.5', '2.5', '3.5', '4.5'])]\n",
    "df"
   ]
  },
  {
   "cell_type": "markdown",
   "metadata": {},
   "source": [
    "# Deep Learning models"
   ]
  },
  {
   "cell_type": "markdown",
   "metadata": {},
   "source": [
    "## Preprocessing step"
   ]
  },
  {
   "cell_type": "markdown",
   "metadata": {},
   "source": [
    "My preprocessing function, preprocess_text, clean and transform the raw text data into a correct format for input to my deep learning model. It involves tokenization, removal of stop words, converting to lowercase, and lemmatization."
   ]
  },
  {
   "cell_type": "code",
   "execution_count": 3,
   "metadata": {},
   "outputs": [],
   "source": [
    "X = df['Review'].apply(lambda x: preprocess_text(str(x)) if not isinstance(x, float) else \"\").values"
   ]
  },
  {
   "cell_type": "markdown",
   "metadata": {},
   "source": [
    "## Converting the ratings into one encoded vectors"
   ]
  },
  {
   "cell_type": "markdown",
   "metadata": {},
   "source": [
    "Neural networks typically work with numerical data. By converting categorical labels into numerical values, it is easier for the network to process this information. Then by one-hot encoding the ratings, we represent each category as a binary vector. Each element in the vector corresponds to a category, and only one element is \"hot\" (set to 1) while the others are \"cold\" (set to 0). This encoding helps the model understand that the ratings are distinct categories and not ordinal values."
   ]
  },
  {
   "cell_type": "code",
   "execution_count": 4,
   "metadata": {},
   "outputs": [],
   "source": [
    "y = df['Rating'].values\n",
    "\n",
    "# Convert ratings to numerical values because they are cureently string values\n",
    "label_encoder = LabelEncoder()\n",
    "y_encoded = label_encoder.fit_transform(y)\n",
    "\n",
    "# Convert the numerical ratings to one-hot encoded vectors\n",
    "y_one_hot = to_categorical(y_encoded)"
   ]
  },
  {
   "cell_type": "markdown",
   "metadata": {},
   "source": [
    "## Tokennize and pad the text data"
   ]
  },
  {
   "cell_type": "markdown",
   "metadata": {},
   "source": [
    "The Tokenizer is part of the process of converting text data into numerical data that can be fed into a neural network. The tokenizer vectorize the text, which means converting the text into sequences of integers based on the vocabulary size and the max sequence length that we will compute here :"
   ]
  },
  {
   "cell_type": "code",
   "execution_count": 5,
   "metadata": {},
   "outputs": [],
   "source": [
    "max_words = 13355\n",
    "max_sequence_length = 200\n",
    "\n",
    "tokenizer = Tokenizer(num_words=max_words)\n",
    "tokenizer.fit_on_texts(X)\n",
    "X_sequences = tokenizer.texts_to_sequences(X)\n",
    "X_padded = pad_sequences(X_sequences, maxlen=max_sequence_length)"
   ]
  },
  {
   "cell_type": "markdown",
   "metadata": {},
   "source": [
    "#### Justify max_words and max_sequence_length choices"
   ]
  },
  {
   "cell_type": "code",
   "execution_count": 6,
   "metadata": {},
   "outputs": [
    {
     "name": "stdout",
     "output_type": "stream",
     "text": [
      "Justification of why we set max_words to 13355 : because they are 13354 unique words in our text data\n"
     ]
    }
   ],
   "source": [
    "# Get the word index\n",
    "word_index = tokenizer.word_index\n",
    "\n",
    "# Get the number of unique words\n",
    "num_unique_words = len(word_index)\n",
    "print(f\"Justification of why we set max_words to 13355 : because they are {num_unique_words} unique words in our text data\")"
   ]
  },
  {
   "cell_type": "code",
   "execution_count": 7,
   "metadata": {},
   "outputs": [
    {
     "data": {
      "image/png": "[encoded data removed]",
      "text/plain": [
       "<Figure size 640x480 with 1 Axes>"
      ]
     },
     "metadata": {},
     "output_type": "display_data"
    }
   ],
   "source": [
    "sentence_lengths = [len(sentence.split()) for sentence in X]\n",
    "\n",
    "# Plotting a histogram\n",
    "plt.hist(sentence_lengths, bins=30)\n",
    "plt.xlabel('Sentence Length')\n",
    "plt.ylabel('Frequency')\n",
    "plt.title('Distribution of Sentence Lengths to justifiy the choice for max_sequence_length')\n",
    "plt.show()\n"
   ]
  },
  {
   "cell_type": "markdown",
   "metadata": {},
   "source": [
    "## Split the data into training and test sets"
   ]
  },
  {
   "cell_type": "code",
   "execution_count": 8,
   "metadata": {},
   "outputs": [],
   "source": [
    "X_train, X_test, y_train, y_test = train_test_split(X_padded, y_one_hot, test_size=0.2, random_state=42)"
   ]
  },
  {
   "cell_type": "markdown",
   "metadata": {},
   "source": [
    "## Simple Neural Network Model"
   ]
  },
  {
   "cell_type": "code",
   "execution_count": 9,
   "metadata": {},
   "outputs": [
    {
     "name": "stdout",
     "output_type": "stream",
     "text": [
      "Epoch 1/10\n",
      "3927/3927 [==============================] - 40s 10ms/step - loss: 1.0818 - accuracy: 0.5555\n",
      "Epoch 2/10\n",
      "3927/3927 [==============================] - 39s 10ms/step - loss: 0.7421 - accuracy: 0.7018\n",
      "Epoch 3/10\n",
      "3927/3927 [==============================] - 39s 10ms/step - loss: 0.4997 - accuracy: 0.8119\n",
      "Epoch 4/10\n",
      "3927/3927 [==============================] - 38s 10ms/step - loss: 0.3078 - accuracy: 0.8906\n",
      "Epoch 5/10\n",
      "3927/3927 [==============================] - 39s 10ms/step - loss: 0.2113 - accuracy: 0.9268\n",
      "Epoch 6/10\n",
      "3927/3927 [==============================] - 38s 10ms/step - loss: 0.1598 - accuracy: 0.9488\n",
      "Epoch 7/10\n",
      "3927/3927 [==============================] - 40s 10ms/step - loss: 0.1307 - accuracy: 0.9568\n",
      "Epoch 8/10\n",
      "3927/3927 [==============================] - 40s 10ms/step - loss: 0.1220 - accuracy: 0.9605\n",
      "Epoch 9/10\n",
      "3927/3927 [==============================] - 41s 10ms/step - loss: 0.1131 - accuracy: 0.9659\n",
      "Epoch 10/10\n",
      "3927/3927 [==============================] - 40s 10ms/step - loss: 0.1054 - accuracy: 0.9671\n",
      "62/62 [==============================] - 0s 3ms/step - loss: 3.1436 - accuracy: 0.5530\n"
     ]
    }
   ],
   "source": [
    "embedding_dim = 30\n",
    "\n",
    "# Create a Sequential model with Dense layers\n",
    "model = Sequential()\n",
    "model.add(Embedding(input_dim=max_words, output_dim=embedding_dim, input_length=max_sequence_length))\n",
    "model.add(Flatten())\n",
    "model.add(Dense(64, activation='relu')) # 3 hidden layers\n",
    "model.add(Dense(32, activation='relu'))\n",
    "model.add(Dense(16, activation='relu'))\n",
    "model.add(Dense(len(label_encoder.classes_), activation='softmax'))  # Output layer with softmax for multi-class classification\n",
    "\n",
    "# Compile the model\n",
    "model.compile(optimizer='adam', loss='categorical_crossentropy', metrics=['accuracy'])\n",
    "\n",
    "# Define the early stopping criteria\n",
    "early_stopping = EarlyStopping(monitor=\"loss\", patience=3)\n",
    "\n",
    "# Train the model with early stopping\n",
    "model.fit(X_train, y_train, epochs=10, batch_size=2, callbacks=[early_stopping])\n",
    "\n",
    "# Evaluation of the model on test data\n",
    "metrics = model.evaluate(X_test, y_test)"
   ]
  },
  {
   "cell_type": "code",
   "execution_count": 10,
   "metadata": {},
   "outputs": [
    {
     "name": "stdout",
     "output_type": "stream",
     "text": [
      "62/62 [==============================] - 0s 2ms/step\n",
      "Classification Report:\n",
      "              precision    recall  f1-score   support\n",
      "\n",
      "           1       0.76      0.63      0.69       355\n",
      "           2       0.22      0.12      0.15       146\n",
      "           3       0.30      0.14      0.19       231\n",
      "           4       0.41      0.53      0.46       481\n",
      "           5       0.65      0.74      0.69       751\n",
      "\n",
      "    accuracy                           0.55      1964\n",
      "   macro avg       0.47      0.43      0.44      1964\n",
      "weighted avg       0.54      0.55      0.54      1964\n",
      "\n"
     ]
    }
   ],
   "source": [
    "# Predictions on test data\n",
    "y_pred = model.predict(X_test)\n",
    "\n",
    "# Convert one-hot encoded predictions back to original labels\n",
    "y_pred_labels = label_encoder.inverse_transform(y_pred.argmax(axis=1))\n",
    "y_test_labels = label_encoder.inverse_transform(y_test.argmax(axis=1))\n",
    "\n",
    "# Classification report\n",
    "class_report = classification_report(y_test_labels, y_pred_labels)\n",
    "\n",
    "print(\"Classification Report:\")\n",
    "print(class_report)"
   ]
  },
  {
   "cell_type": "markdown",
   "metadata": {},
   "source": [
    "## Recurrent Neural Network Model"
   ]
  },
  {
   "cell_type": "code",
   "execution_count": 11,
   "metadata": {},
   "outputs": [
    {
     "name": "stdout",
     "output_type": "stream",
     "text": [
      "Epoch 1/10\n",
      "3927/3927 [==============================] - 120s 30ms/step - loss: 1.1718 - accuracy: 0.5141\n",
      "Epoch 2/10\n",
      "3927/3927 [==============================] - 119s 30ms/step - loss: 0.8113 - accuracy: 0.6855\n",
      "Epoch 3/10\n",
      "3927/3927 [==============================] - 120s 31ms/step - loss: 0.6162 - accuracy: 0.7768\n",
      "Epoch 4/10\n",
      "3927/3927 [==============================] - 119s 30ms/step - loss: 0.4779 - accuracy: 0.8347\n",
      "Epoch 5/10\n",
      "3927/3927 [==============================] - 118s 30ms/step - loss: 0.3018 - accuracy: 0.8980\n",
      "Epoch 6/10\n",
      "3927/3927 [==============================] - 118s 30ms/step - loss: 0.2125 - accuracy: 0.9329\n",
      "Epoch 7/10\n",
      "3927/3927 [==============================] - 117s 30ms/step - loss: 0.3102 - accuracy: 0.8928\n",
      "Epoch 8/10\n",
      "3927/3927 [==============================] - 118s 30ms/step - loss: 0.3027 - accuracy: 0.8991\n",
      "Epoch 9/10\n",
      "3927/3927 [==============================] - 117s 30ms/step - loss: 0.1838 - accuracy: 0.9412\n",
      "Epoch 10/10\n",
      "3927/3927 [==============================] - 117s 30ms/step - loss: 0.1442 - accuracy: 0.9544\n",
      "62/62 [==============================] - 1s 9ms/step\n",
      "62/62 [==============================] - 1s 10ms/step - loss: 2.2291 - accuracy: 0.5112\n"
     ]
    }
   ],
   "source": [
    "# Parameters\n",
    "rnn_units = 32\n",
    "\n",
    "# Create a Sequential model with RNN\n",
    "modelRNN = Sequential()\n",
    "modelRNN.add(Embedding(input_dim=max_words, output_dim=embedding_dim, input_length=max_sequence_length))\n",
    "modelRNN.add(SimpleRNN(units=rnn_units))\n",
    "modelRNN.add(Dense(len(label_encoder.classes_), activation='softmax'))\n",
    "\n",
    "# Compile the model\n",
    "modelRNN.compile(optimizer='adam', loss='categorical_crossentropy', metrics=['accuracy'])\n",
    "\n",
    "# Define the early stopping criteria\n",
    "early_stopping = EarlyStopping(monitor=\"loss\", patience=3)\n",
    "\n",
    "# Train the modelRNN with early stopping\n",
    "modelRNN.fit(X_train, y_train, epochs=10, batch_size=2, callbacks=[early_stopping])\n",
    "\n",
    "# Evaluation of the model on test data\n",
    "y_pred_rnn = modelRNN.predict(X_test)\n",
    "y_pred_rnn_labels = label_encoder.inverse_transform(y_pred_rnn.argmax(axis=1))\n",
    "\n",
    "# Convert true labels to integers\n",
    "y_test_int = label_encoder.transform(y_test_labels)\n",
    "\n",
    "# Evaluation of the model on test data\n",
    "metrics = modelRNN.evaluate(X_test, y_test)\n"
   ]
  },
  {
   "cell_type": "code",
   "execution_count": 12,
   "metadata": {},
   "outputs": [
    {
     "name": "stdout",
     "output_type": "stream",
     "text": [
      "62/62 [==============================] - 1s 9ms/step\n",
      "Classification Report:\n",
      "              precision    recall  f1-score   support\n",
      "\n",
      "           1       0.64      0.60      0.62       355\n",
      "           2       0.14      0.10      0.12       146\n",
      "           3       0.27      0.27      0.27       231\n",
      "           4       0.38      0.36      0.37       481\n",
      "           5       0.65      0.72      0.68       751\n",
      "\n",
      "    accuracy                           0.51      1964\n",
      "   macro avg       0.41      0.41      0.41      1964\n",
      "weighted avg       0.50      0.51      0.50      1964\n",
      "\n"
     ]
    }
   ],
   "source": [
    "# Predictions on test data\n",
    "y_pred = modelRNN.predict(X_test)\n",
    "\n",
    "# Convert one-hot encoded predictions back to original labels\n",
    "y_pred_labels = label_encoder.inverse_transform(y_pred.argmax(axis=1))\n",
    "y_test_labels = label_encoder.inverse_transform(y_test.argmax(axis=1))\n",
    "\n",
    "# Classification report\n",
    "class_report = classification_report(y_test_labels, y_pred_labels)\n",
    "\n",
    "print(\"Classification Report:\")\n",
    "print(class_report)"
   ]
  },
  {
   "cell_type": "markdown",
   "metadata": {},
   "source": [
    "## Long Short Term Memory Model"
   ]
  },
  {
   "cell_type": "code",
   "execution_count": 13,
   "metadata": {},
   "outputs": [
    {
     "name": "stdout",
     "output_type": "stream",
     "text": [
      "Epoch 1/10\n",
      "3927/3927 [==============================] - 204s 52ms/step - loss: 1.0382 - accuracy: 0.5715\n",
      "Epoch 2/10\n",
      "3927/3927 [==============================] - 201s 51ms/step - loss: 0.7728 - accuracy: 0.6912\n",
      "Epoch 3/10\n",
      "3927/3927 [==============================] - 203s 52ms/step - loss: 0.6396 - accuracy: 0.7528\n",
      "Epoch 4/10\n",
      "3927/3927 [==============================] - 204s 52ms/step - loss: 0.5304 - accuracy: 0.8061\n",
      "Epoch 5/10\n",
      "3927/3927 [==============================] - 205s 52ms/step - loss: 0.4204 - accuracy: 0.8497\n",
      "Epoch 6/10\n",
      "3927/3927 [==============================] - 208s 53ms/step - loss: 0.3522 - accuracy: 0.8792\n",
      "Epoch 7/10\n",
      "3927/3927 [==============================] - 214s 54ms/step - loss: 0.2754 - accuracy: 0.9054\n",
      "Epoch 8/10\n",
      "3927/3927 [==============================] - 214s 54ms/step - loss: 0.2395 - accuracy: 0.9179\n",
      "Epoch 9/10\n",
      "3927/3927 [==============================] - 213s 54ms/step - loss: 0.2096 - accuracy: 0.9310\n",
      "Epoch 10/10\n",
      "3927/3927 [==============================] - 214s 55ms/step - loss: 0.1778 - accuracy: 0.9408\n",
      "62/62 [==============================] - 2s 19ms/step\n",
      "62/62 [==============================] - 2s 20ms/step - loss: 1.9576 - accuracy: 0.5769\n"
     ]
    }
   ],
   "source": [
    "# Parameters\n",
    "lstm_units = 32\n",
    "\n",
    "# Create a Sequential model with LSTM\n",
    "modelLSTM = Sequential()\n",
    "modelLSTM.add(Embedding(input_dim=max_words, output_dim=embedding_dim, input_length=max_sequence_length))\n",
    "modelLSTM.add(LSTM(units=lstm_units))\n",
    "modelLSTM.add(Dense(len(label_encoder.classes_), activation='softmax'))\n",
    "\n",
    "# Compile the model\n",
    "modelLSTM.compile(optimizer='adam', loss='categorical_crossentropy', metrics=['accuracy'])\n",
    "\n",
    "# Define the early stopping criteria\n",
    "early_stopping = EarlyStopping(monitor=\"loss\", patience=3)\n",
    "\n",
    "# Train the model with early stopping\n",
    "modelLSTM.fit(X_train, y_train, epochs=10, batch_size=2, callbacks=[early_stopping])\n",
    "\n",
    "# Evaluation of the modelLSTM on test data\n",
    "y_pred_lstm = modelLSTM.predict(X_test)\n",
    "y_pred_lstm_labels = label_encoder.inverse_transform(y_pred_lstm.argmax(axis=1))\n",
    "\n",
    "# Convert true labels to integers\n",
    "y_test_int = label_encoder.transform(y_test_labels)\n",
    "\n",
    "# Evaluation of the model on test data\n",
    "metrics = modelLSTM.evaluate(X_test, y_test)\n"
   ]
  },
  {
   "cell_type": "code",
   "execution_count": 14,
   "metadata": {},
   "outputs": [
    {
     "name": "stdout",
     "output_type": "stream",
     "text": [
      " 4/62 [>.............................] - ETA: 1s"
     ]
    },
    {
     "name": "stdout",
     "output_type": "stream",
     "text": [
      "62/62 [==============================] - 1s 20ms/step\n",
      "Classification Report:\n",
      "              precision    recall  f1-score   support\n",
      "\n",
      "           1       0.71      0.67      0.69       355\n",
      "           2       0.24      0.25      0.24       146\n",
      "           3       0.35      0.26      0.30       231\n",
      "           4       0.46      0.46      0.46       481\n",
      "           5       0.70      0.77      0.73       751\n",
      "\n",
      "    accuracy                           0.58      1964\n",
      "   macro avg       0.49      0.48      0.48      1964\n",
      "weighted avg       0.57      0.58      0.57      1964\n",
      "\n"
     ]
    }
   ],
   "source": [
    "# Predictions on test data\n",
    "y_pred = modelLSTM.predict(X_test)\n",
    "\n",
    "# Convert one-hot encoded predictions back to original labels\n",
    "y_pred_labels = label_encoder.inverse_transform(y_pred.argmax(axis=1))\n",
    "y_test_labels = label_encoder.inverse_transform(y_test.argmax(axis=1))\n",
    "\n",
    "# Classification report\n",
    "class_report = classification_report(y_test_labels, y_pred_labels)\n",
    "\n",
    "print(\"Classification Report:\")\n",
    "print(class_report)"
   ]
  },
  {
   "cell_type": "markdown",
   "metadata": {},
   "source": [
    "Globally, The best f1-scores are still on the categories with the bigger support (the number of items belonging to this category) and this join the first observation on this project : the dataset is unbalanced and for some of the classes, we have a very few elements that belong to these classes."
   ]
  }
 ],
 "metadata": {
  "kernelspec": {
   "display_name": "Python 3",
   "language": "python",
   "name": "python3"
  },
  "language_info": {
   "codemirror_mode": {
    "name": "ipython",
    "version": 3
   },
   "file_extension": ".py",
   "mimetype": "text/x-python",
   "name": "python",
   "nbconvert_exporter": "python",
   "pygments_lexer": "ipython3",
   "version": "3.11.5"
  }
 },
 "nbformat": 4,
 "nbformat_minor": 2
}
